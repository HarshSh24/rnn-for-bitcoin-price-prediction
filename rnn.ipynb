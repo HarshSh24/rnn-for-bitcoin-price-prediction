{
  "nbformat": 4,
  "nbformat_minor": 0,
  "metadata": {
    "colab": {
      "name": "rnn.ipynb",
      "provenance": [],
      "collapsed_sections": [],
      "toc_visible": true
    },
    "kernelspec": {
      "name": "python3",
      "display_name": "Python 3"
    },
    "accelerator": "GPU"
  },
  "cells": [
    {
      "cell_type": "markdown",
      "metadata": {
        "id": "xpAuMVCwfWs8"
      },
      "source": [
        "# Recurrent Neural Network"
      ]
    },
    {
      "cell_type": "markdown",
      "metadata": {
        "id": "nxJfRe4bfYVA"
      },
      "source": [
        "## Part 1 - Data Preprocessing"
      ]
    },
    {
      "cell_type": "markdown",
      "metadata": {
        "id": "ir9zwETrfbrp"
      },
      "source": [
        "### Importing the libraries"
      ]
    },
    {
      "cell_type": "code",
      "metadata": {
        "id": "ZT1f24vHffuf"
      },
      "source": [
        "import numpy as np\n",
        "import matplotlib.pyplot as plt\n",
        "import pandas as pd"
      ],
      "execution_count": 1,
      "outputs": []
    },
    {
      "cell_type": "markdown",
      "metadata": {
        "id": "nQ47JAxrgmaL"
      },
      "source": [
        "### Importing the training set"
      ]
    },
    {
      "cell_type": "code",
      "metadata": {
        "id": "1xiv3pJOgqY3",
        "colab": {
          "base_uri": "https://localhost:8080/"
        },
        "outputId": "ac2dddb2-e379-4dec-d78c-f973d9f5f2d0"
      },
      "source": [
        "dataset = pd.read_csv('BTCUSD_1hr.csv')\n",
        "dataset=dataset.iloc[39465::-1, 3:4].values\n",
        "\n",
        "training_set = dataset[0:39465-60, :]"
      ],
      "execution_count": 51,
      "outputs": [
        {
          "output_type": "stream",
          "text": [
            "[[   0.  ]\n",
            " [ 245.  ]\n",
            " [ 245.  ]\n",
            " ...\n",
            " [7337.19]\n",
            " [7367.28]\n",
            " [7369.6 ]]\n"
          ],
          "name": "stdout"
        }
      ]
    },
    {
      "cell_type": "markdown",
      "metadata": {
        "id": "HT8_2UJegtG5"
      },
      "source": [
        "### Feature Scaling"
      ]
    },
    {
      "cell_type": "code",
      "metadata": {
        "id": "OTrF2kR7gx9x"
      },
      "source": [
        "from sklearn.preprocessing import MinMaxScaler\n",
        "sc = MinMaxScaler(feature_range = (0, 1))\n",
        "training_set_scaled = sc.fit_transform(training_set)"
      ],
      "execution_count": 52,
      "outputs": []
    },
    {
      "cell_type": "markdown",
      "metadata": {
        "id": "JyYgYocqhNUg"
      },
      "source": [
        "### Creating a data structure with 60 timesteps and 1 output"
      ]
    },
    {
      "cell_type": "code",
      "metadata": {
        "id": "iofU21B0i6ST"
      },
      "source": [
        "X_train = []\n",
        "y_train = []\n",
        "for i in range(60, 39405):\n",
        "    X_train.append(training_set_scaled[i-60:i, 0])\n",
        "    y_train.append(training_set_scaled[i, 0])\n",
        "X_train, y_train = np.array(X_train), np.array(y_train)"
      ],
      "execution_count": 53,
      "outputs": []
    },
    {
      "cell_type": "markdown",
      "metadata": {
        "id": "D8yaN7Zvi95l"
      },
      "source": [
        "### Reshaping"
      ]
    },
    {
      "cell_type": "code",
      "metadata": {
        "id": "FOXqJHmNjBkz"
      },
      "source": [
        "X_train = np.reshape(X_train, (X_train.shape[0], X_train.shape[1], 1))"
      ],
      "execution_count": 54,
      "outputs": []
    },
    {
      "cell_type": "markdown",
      "metadata": {
        "id": "ZRRSOJeVjEWV"
      },
      "source": [
        "## Part 2 - Building and Training the RNN"
      ]
    },
    {
      "cell_type": "markdown",
      "metadata": {
        "id": "k4XV88JMjHXG"
      },
      "source": [
        "### Importing the Keras libraries and packages"
      ]
    },
    {
      "cell_type": "code",
      "metadata": {
        "id": "9JRnqsxEjKsD"
      },
      "source": [
        "from keras.models import Sequential\n",
        "from keras.layers import Dense\n",
        "from keras.layers import LSTM\n",
        "from keras.layers import Dropout"
      ],
      "execution_count": 57,
      "outputs": []
    },
    {
      "cell_type": "markdown",
      "metadata": {
        "id": "FEIE-1s9jNzC"
      },
      "source": [
        "### Initialising the RNN"
      ]
    },
    {
      "cell_type": "code",
      "metadata": {
        "id": "1338dJ0UjRKH"
      },
      "source": [
        "regressor = Sequential()"
      ],
      "execution_count": 58,
      "outputs": []
    },
    {
      "cell_type": "markdown",
      "metadata": {
        "id": "62eg1OPGjT8z"
      },
      "source": [
        "### Adding the first LSTM layer and some Dropout regularisation"
      ]
    },
    {
      "cell_type": "code",
      "metadata": {
        "id": "2hIinyXUjbVU"
      },
      "source": [
        "regressor.add(LSTM(units = 50, return_sequences = True, input_shape = (X_train.shape[1], 1)))\n",
        "regressor.add(Dropout(0.2))"
      ],
      "execution_count": 59,
      "outputs": []
    },
    {
      "cell_type": "markdown",
      "metadata": {
        "id": "3XBIYLyOjlMx"
      },
      "source": [
        "### Adding a second LSTM layer and some Dropout regularisation"
      ]
    },
    {
      "cell_type": "code",
      "metadata": {
        "id": "UG7nrVaSjuZ2"
      },
      "source": [
        "regressor.add(LSTM(units = 50, return_sequences = True))\n",
        "regressor.add(Dropout(0.2))"
      ],
      "execution_count": 60,
      "outputs": []
    },
    {
      "cell_type": "markdown",
      "metadata": {
        "id": "Ey3fHVnGj1cu"
      },
      "source": [
        "### Adding a third LSTM layer and some Dropout regularisation"
      ]
    },
    {
      "cell_type": "code",
      "metadata": {
        "id": "PuNi6PgFj7jO"
      },
      "source": [
        "regressor.add(LSTM(units = 50, return_sequences = True))\n",
        "regressor.add(Dropout(0.2))"
      ],
      "execution_count": 61,
      "outputs": []
    },
    {
      "cell_type": "markdown",
      "metadata": {
        "id": "SYTrtfTmj933"
      },
      "source": [
        "### Adding a fourth LSTM layer and some Dropout regularisation"
      ]
    },
    {
      "cell_type": "code",
      "metadata": {
        "id": "Jp4Ty8fRkBYV"
      },
      "source": [
        "regressor.add(LSTM(units = 50))\n",
        "regressor.add(Dropout(0.2))"
      ],
      "execution_count": 62,
      "outputs": []
    },
    {
      "cell_type": "markdown",
      "metadata": {
        "id": "9ABI6rOIkHhk"
      },
      "source": [
        "### Adding the output layer"
      ]
    },
    {
      "cell_type": "code",
      "metadata": {
        "id": "aM6R1z4WkME8"
      },
      "source": [
        "regressor.add(Dense(units = 1))"
      ],
      "execution_count": 63,
      "outputs": []
    },
    {
      "cell_type": "markdown",
      "metadata": {
        "id": "zLx4K7uUkPSh"
      },
      "source": [
        "### Compiling the RNN"
      ]
    },
    {
      "cell_type": "code",
      "metadata": {
        "id": "XTrhVN-tkbko"
      },
      "source": [
        "regressor.compile(optimizer = 'adam', loss = 'mean_squared_error')"
      ],
      "execution_count": 64,
      "outputs": []
    },
    {
      "cell_type": "markdown",
      "metadata": {
        "id": "-mPhwKGkkebi"
      },
      "source": [
        "### Fitting the RNN to the Training set"
      ]
    },
    {
      "cell_type": "code",
      "metadata": {
        "id": "I06Nkrz5kkb-",
        "colab": {
          "base_uri": "https://localhost:8080/"
        },
        "outputId": "000201bc-8b52-4a09-e71d-e8ba1054375c"
      },
      "source": [
        "regressor.fit(X_train, y_train, epochs = 10, batch_size = 32)"
      ],
      "execution_count": 65,
      "outputs": [
        {
          "output_type": "stream",
          "text": [
            "Epoch 1/10\n",
            "1230/1230 [==============================] - 21s 13ms/step - loss: 0.0033\n",
            "Epoch 2/10\n",
            "1230/1230 [==============================] - 16s 13ms/step - loss: 6.1741e-04\n",
            "Epoch 3/10\n",
            "1230/1230 [==============================] - 16s 13ms/step - loss: 4.7752e-04\n",
            "Epoch 4/10\n",
            "1230/1230 [==============================] - 16s 13ms/step - loss: 4.6146e-04\n",
            "Epoch 5/10\n",
            "1230/1230 [==============================] - 16s 13ms/step - loss: 4.2412e-04\n",
            "Epoch 6/10\n",
            "1230/1230 [==============================] - 16s 13ms/step - loss: 3.7820e-04\n",
            "Epoch 7/10\n",
            "1230/1230 [==============================] - 16s 13ms/step - loss: 4.0567e-04\n",
            "Epoch 8/10\n",
            "1230/1230 [==============================] - 16s 13ms/step - loss: 3.7483e-04\n",
            "Epoch 9/10\n",
            "1230/1230 [==============================] - 16s 13ms/step - loss: 3.6978e-04\n",
            "Epoch 10/10\n",
            "1230/1230 [==============================] - 16s 13ms/step - loss: 3.7057e-04\n"
          ],
          "name": "stdout"
        },
        {
          "output_type": "execute_result",
          "data": {
            "text/plain": [
              "<tensorflow.python.keras.callbacks.History at 0x7fb26a025390>"
            ]
          },
          "metadata": {
            "tags": []
          },
          "execution_count": 65
        }
      ]
    },
    {
      "cell_type": "markdown",
      "metadata": {
        "id": "4hRau_lIkrE8"
      },
      "source": [
        "## Part 3 - Making the predictions and visualising the results"
      ]
    },
    {
      "cell_type": "markdown",
      "metadata": {
        "id": "SgJO6qEDksxD"
      },
      "source": [
        "### Getting the real stock price of 2017"
      ]
    },
    {
      "cell_type": "code",
      "metadata": {
        "id": "FmBT2zqukxTz",
        "colab": {
          "base_uri": "https://localhost:8080/"
        },
        "outputId": "e75dd60d-9e00-474b-86d8-abec607796e2"
      },
      "source": [
        "\n",
        "real_bitcoin_price = dataset[39405:, :]\n",
        "test_set = dataset[39405:, :]\n",
        "print(real_bitcoin_price)"
      ],
      "execution_count": 69,
      "outputs": [
        {
          "output_type": "stream",
          "text": [
            "[[7141.78]\n",
            " [7108.6 ]\n",
            " [7110.62]\n",
            " [7153.28]\n",
            " [7158.17]\n",
            " [7224.06]\n",
            " [7254.65]\n",
            " [7277.49]\n",
            " [7230.95]\n",
            " [7295.45]\n",
            " [7275.74]\n",
            " [7336.96]\n",
            " [7376.47]\n",
            " [7352.78]\n",
            " [7318.08]\n",
            " [7329.68]\n",
            " [7248.02]\n",
            " [7284.33]\n",
            " [7311.92]\n",
            " [7389.73]\n",
            " [7366.26]\n",
            " [7385.46]\n",
            " [7441.26]\n",
            " [7392.36]\n",
            " [7344.87]\n",
            " [7363.23]\n",
            " [7287.28]\n",
            " [7331.78]\n",
            " [7377.05]\n",
            " [7362.06]\n",
            " [7312.48]\n",
            " [7296.24]\n",
            " [7127.08]\n",
            " [7182.  ]\n",
            " [7170.01]\n",
            " [7201.81]\n",
            " [7156.81]\n",
            " [7161.89]\n",
            " [7277.05]\n",
            " [7355.98]\n",
            " [7358.96]\n",
            " [7414.75]\n",
            " [7315.76]\n",
            " [7323.36]\n",
            " [7288.12]\n",
            " [7307.84]\n",
            " [7252.69]\n",
            " [7295.8 ]\n",
            " [7285.  ]\n",
            " [7221.77]\n",
            " [7269.64]\n",
            " [7283.45]\n",
            " [7337.55]\n",
            " [7314.15]\n",
            " [7324.32]\n",
            " [7320.11]\n",
            " [7327.7 ]\n",
            " [7337.19]\n",
            " [7367.28]\n",
            " [7369.6 ]]\n"
          ],
          "name": "stdout"
        }
      ]
    },
    {
      "cell_type": "markdown",
      "metadata": {
        "id": "GrvrLblxkz42"
      },
      "source": [
        "### Getting the predicted stock price of 2017"
      ]
    },
    {
      "cell_type": "code",
      "metadata": {
        "id": "emikTvUpk3Ck",
        "colab": {
          "base_uri": "https://localhost:8080/"
        },
        "outputId": "1983142a-b162-42a1-c791-1a916a72bcc7"
      },
      "source": [
        "dataset_total = np.concatenate((training_set, test_set), axis = 0)\n",
        "inputs = dataset_total[len(dataset_total) - len(test_set) - 60:]\n",
        "inputs = inputs.reshape(-1,1)\n",
        "inputs = sc.transform(inputs)\n",
        "X_test = []\n",
        "for i in range(60, 120):\n",
        "    X_test.append(inputs[i-60:i, 0])\n",
        "X_test = np.array(X_test)\n",
        "X_test = np.reshape(X_test, (X_test.shape[0], X_test.shape[1], 1))\n",
        "predicted_bitcoin_price = regressor.predict(X_test)\n",
        "predicted_bitcoin_price = sc.inverse_transform(predicted_bitcoin_price)\n",
        "print(predicted_bitcoin_price)"
      ],
      "execution_count": 72,
      "outputs": [
        {
          "output_type": "stream",
          "text": [
            "[[7102.291 ]\n",
            " [7124.3706]\n",
            " [7142.9775]\n",
            " [7157.5737]\n",
            " [7171.576 ]\n",
            " [7185.79  ]\n",
            " [7203.8145]\n",
            " [7226.222 ]\n",
            " [7251.414 ]\n",
            " [7272.8057]\n",
            " [7292.63  ]\n",
            " [7309.6978]\n",
            " [7327.628 ]\n",
            " [7348.8496]\n",
            " [7369.728 ]\n",
            " [7385.2964]\n",
            " [7395.8086]\n",
            " [7397.0913]\n",
            " [7393.6885]\n",
            " [7391.1196]\n",
            " [7396.234 ]\n",
            " [7406.169 ]\n",
            " [7418.466 ]\n",
            " [7434.419 ]\n",
            " [7448.5327]\n",
            " [7455.3145]\n",
            " [7456.721 ]\n",
            " [7450.289 ]\n",
            " [7441.666 ]\n",
            " [7437.354 ]\n",
            " [7436.937 ]\n",
            " [7435.156 ]\n",
            " [7429.7437]\n",
            " [7410.199 ]\n",
            " [7383.5527]\n",
            " [7356.0527]\n",
            " [7333.787 ]\n",
            " [7314.944 ]\n",
            " [7298.92  ]\n",
            " [7293.2896]\n",
            " [7302.322 ]\n",
            " [7321.1206]\n",
            " [7346.725 ]\n",
            " [7367.099 ]\n",
            " [7379.5913]\n",
            " [7383.6167]\n",
            " [7383.607 ]\n",
            " [7379.0337]\n",
            " [7374.804 ]\n",
            " [7372.1294]\n",
            " [7366.58  ]\n",
            " [7361.4087]\n",
            " [7358.9385]\n",
            " [7362.6055]\n",
            " [7369.1953]\n",
            " [7376.58  ]\n",
            " [7382.9985]\n",
            " [7388.346 ]\n",
            " [7393.338 ]\n",
            " [7400.1104]]\n"
          ],
          "name": "stdout"
        }
      ]
    },
    {
      "cell_type": "markdown",
      "metadata": {
        "id": "iFTNs3YHk6FQ"
      },
      "source": [
        "### Visualising the results"
      ]
    },
    {
      "cell_type": "code",
      "metadata": {
        "id": "8OUI8U49k9tH",
        "colab": {
          "base_uri": "https://localhost:8080/",
          "height": 295
        },
        "outputId": "7fa2c622-9539-45ed-ea52-f10a0bacc110"
      },
      "source": [
        "plt.plot(real_bitcoin_price, color = 'red', label = 'Real Bitcoin Price')\n",
        "plt.plot(predicted_bitcoin_price, color = 'blue', label = 'Predicted Bitcoin Price')\n",
        "plt.title('Bitcoin Price Prediction')\n",
        "plt.xlabel('Time')\n",
        "plt.ylabel('Bitcoin Price')\n",
        "plt.legend()\n",
        "plt.show()"
      ],
      "execution_count": 73,
      "outputs": [
        {
          "output_type": "display_data",
          "data": {
            "image/png": "[encoded data removed]",
            "text/plain": [
              "<Figure size 432x288 with 1 Axes>"
            ]
          },
          "metadata": {
            "tags": [],
            "needs_background": "light"
          }
        }
      ]
    }
  ]
}